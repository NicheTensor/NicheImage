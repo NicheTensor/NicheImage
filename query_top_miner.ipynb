{
 "cells": [
  {
   "cell_type": "code",
   "execution_count": 2,
   "metadata": {},
   "outputs": [],
   "source": [
    "# Import the necessary modules to demonstrate the validator\n",
    "import bittensor as bt\n",
    "from argparse import ArgumentParser\n",
    "import requests\n",
    "import image_generation_subnet as ig_subnet\n",
    "from neurons.validator.validator import Validator"
   ]
  },
  {
   "cell_type": "code",
   "execution_count": 11,
   "metadata": {},
   "outputs": [
    {
     "name": "stdout",
     "output_type": "stream",
     "text": [
      "\n",
      "netuid: 23\n",
      "wallet:\n",
      "  name: default\n",
      "  hotkey: default\n",
      "subtensor:\n",
      "  network: finney\n",
      "neuron:\n",
      "  axon_off: true\n",
      "config: null\n",
      "strict: false\n",
      "no_version_checking: false\n",
      "no_prompt: false\n",
      "\n",
      "\u001b[34m2024-04-18 09:18:19.969\u001b[0m | \u001b[1m      INFO      \u001b[0m | You are connecting to finney network with endpoint wss://entrypoint-finney.opentensor.ai:443.\n",
      "\u001b[34m2024-04-18 09:18:19.969\u001b[0m | \u001b[33m\u001b[1m    WARNING     \u001b[0m | We strongly encourage running a local subtensor node whenever possible. This increases decentralization and resilience of the network.\n",
      "\u001b[34m2024-04-18 09:18:19.969\u001b[0m | \u001b[33m\u001b[1m    WARNING     \u001b[0m | In a future release, local subtensor will become the default endpoint. To get ahead of this change, please run a local subtensor node and point to it.\n",
      "\u001b[34m2024-04-18 09:18:20.717\u001b[0m | \u001b[1m      INFO      \u001b[0m | Connected to finney network and wss://entrypoint-finney.opentensor.ai:443.\n"
     ]
    }
   ],
   "source": [
    "# Initialize the validator\n",
    "\n",
    "parser = ArgumentParser()\n",
    "parser.add_argument(\"--netuid\", type=int, default=23, help=\"The chain subnet uid.\")\n",
    "\n",
    "# Define the bittensor configuration parameters here\n",
    "parser.add_argument(\"--wallet.name\", type=str, default=\"default\")\n",
    "parser.add_argument(\"--wallet.hotkey\", type=str, default=\"default\")\n",
    "parser.add_argument(\"--subtensor.network\", type=str, default=\"finney\")\n",
    "parser.add_argument(\"--neuron.axon_off\", type=bool, default=True)\n",
    "\n",
    "config = bt.config( parser )\n",
    "print(config)\n",
    "\n",
    "metagraph = bt.metagraph(netuid=config.netuid)\n",
    "\n",
    "nicheimage_validator: Validator = Validator(config)"
   ]
  },
  {
   "cell_type": "code",
   "execution_count": 12,
   "metadata": {},
   "outputs": [
    {
     "name": "stdout",
     "output_type": "stream",
     "text": [
      "Top UID: 127 with incentive: 0.015579461120069027\n"
     ]
    },
    {
     "data": {
      "text/plain": [
       "NeuronInfoLite(hotkey='5DCnissVuUorgYZaBJyBdarPxUQnLypfwYmoMW5TAKm5GRvE', coldkey='5DiEASKwwEvUDZLZN1JSwEJkJPaDRqFNpYdCcsqFwVVMZo4b', uid=127, netuid=23, active=False, stake=τ1.727654778, stake_dict={'5DiEASKwwEvUDZLZN1JSwEJkJPaDRqFNpYdCcsqFwVVMZo4b': τ1.727654778}, total_stake=τ1.727654778, rank=0.015579461356527047, emission=0.035376446, incentive=0.015579461356527047, consensus=0.016861219195849545, trust=0.9846494239719235, validator_trust=0.0, dividends=0.0, last_update=2496667, validator_permit=False, prometheus_info=PrometheusInfo(block=0, version=0, ip='0.0.0.0', port=0, ip_type=0), axon_info=AxonInfo( /ipv4/74.226.197.139:10004, 5DCnissVuUorgYZaBJyBdarPxUQnLypfwYmoMW5TAKm5GRvE, 5DiEASKwwEvUDZLZN1JSwEJkJPaDRqFNpYdCcsqFwVVMZo4b, 693 ), pruning_score=4225, is_null=False)"
      ]
     },
     "execution_count": 12,
     "metadata": {},
     "output_type": "execute_result"
    }
   ],
   "source": [
    "def get_top_miner(metagraph) -> bt.NeuronInfo:\n",
    "    from torch import argmax\n",
    "    # Get incentives and the top performing UID\n",
    "    incentives = metagraph.I\n",
    "    stakes = metagraph.S\n",
    "    incentives[stakes > 10000] = 0\n",
    "    uid = argmax(incentives).item()\n",
    "    print(f\"Top UID: {uid} with incentive: {incentives[uid]}\")\n",
    "\n",
    "    # Return AxonInfo based on the UID\n",
    "    neuron_info = metagraph.neurons[uid]\n",
    "    return neuron_info\n",
    "\n",
    "def prepare_challenge(validator: Validator, miner_uid):\n",
    "    import random\n",
    "    model_name = validator.miner_manager.all_uids_info[miner_uid][\"model_name\"]\n",
    "    print(f\"Model name: {model_name}\")\n",
    "    pipeline_type = random.choice(\n",
    "        validator.nicheimage_catalogue[model_name][\"supporting_pipelines\"]\n",
    "    )\n",
    "    print(f\"Pipeline type: {pipeline_type}\")\n",
    "    synapses, batched_uids_should_rewards = validator.prepare_challenge(uids_should_rewards=[(miner_uid, True)], pipeline_type=pipeline_type, model_name=model_name)\n",
    "    synapse = synapses[0]\n",
    "    uid, should_reward = batched_uids_should_rewards[0]\n",
    "    print(f\"Synapse: {synapse}\")\n",
    "    print(f\"UID: {uid}\")\n",
    "    print(f\"Should reward: {should_reward}\")\n",
    "    return synapse, uid\n",
    "\n",
    "def start_query(validator: Validator, synapse, uid):\n",
    "    model_name = validator.miner_manager.all_uids_info[uid][\"model_name\"]\n",
    "    dendrite = bt.dendrite(validator.wallet)\n",
    "    base_synapse = synapse.copy()\n",
    "    axons = [validator.metagraph.axons[int(uid)]]\n",
    "    responses = dendrite.query(\n",
    "        axons=axons,\n",
    "        synapse=synapse,\n",
    "        deserialize=False,\n",
    "        timeout=validator.nicheimage_catalogue[model_name][\"timeout\"],\n",
    "    )\n",
    "    response = responses[0]\n",
    "\n",
    "    # Calculate the reward\n",
    "\n",
    "    reward_url = validator.nicheimage_catalogue[model_name][\"reward_url\"]\n",
    "\n",
    "    if callable(reward_url):\n",
    "        uids, rewards = reward_url(\n",
    "            base_synapse, [response], [uid]\n",
    "        )\n",
    "    else:\n",
    "        uids, rewards = ig_subnet.validator.get_reward(\n",
    "            reward_url,\n",
    "            base_synapse,\n",
    "            [response],\n",
    "            [uid],\n",
    "            validator.nicheimage_catalogue[model_name].get(\"timeout\", 12),\n",
    "        )\n",
    "\n",
    "    print(f\"UIDs: {uids}\")\n",
    "    print(f\"Rewards: {rewards}\")\n",
    "\n",
    "    print(f\"Final response: {response}, is successful: {response.is_success}\")\n",
    "    return response.deserialize()\n",
    "\n"
   ]
  },
  {
   "cell_type": "markdown",
   "metadata": {},
   "source": [
    "### Query top miner step by step"
   ]
  },
  {
   "cell_type": "code",
   "execution_count": null,
   "metadata": {},
   "outputs": [],
   "source": [
    "# Get the top miner\n",
    "top_miner = get_top_miner(metagraph)\n",
    "\n",
    "# Prepare the challenge\n",
    "synapse, uid = prepare_challenge(nicheimage_validator, top_miner.uid)\n",
    "\n",
    "# Start the query\n",
    "response = start_query(nicheimage_validator, synapse, uid)\n",
    "print(response)"
   ]
  },
  {
   "cell_type": "markdown",
   "metadata": {},
   "source": [
    "### Explaining rewarding mechanism\n",
    "- **Incentivized volume rewarding mechanism**: The reward formula incorporates the volume of requests handled, calculated as follows:\n",
    "  - `new_reward = (matching_result - time_penalty) * (0.8 + 0.2 * volume_scale)`\n",
    "  - `matching_result` is 0 or 1 based on the similarity matching result with the reproduction of the validator.\n",
    "  - `time_penalty = 0.4 * (processing_time / timeout)**3`\n",
    "  - `volume_scale = max(min(total_volume**0.5 / 1000**0.5, 1), 0)`\n"
   ]
  },
  {
   "cell_type": "code",
   "execution_count": null,
   "metadata": {},
   "outputs": [],
   "source": [
    "\n",
    "def add_time_penalty(rewards, process_times, max_penalty=0.4, factor: float = 12):\n",
    "    \"\"\"\n",
    "    Add time penalty to rewards, based on process time\n",
    "    \"\"\"\n",
    "    penalties = [\n",
    "        max_penalty * pow(process_time, 3) / pow(factor, 3)\n",
    "        for process_time in process_times\n",
    "    ]\n",
    "    penalties = [min(penalty, max_penalty) for penalty in penalties]\n",
    "    for i in range(len(rewards)):\n",
    "        if rewards[i] > 0:\n",
    "            rewards[i] = rewards[i] - penalties[i]\n",
    "    return rewards\n",
    "\n",
    "\n",
    "def get_reward(\n",
    "    url: str,\n",
    "    base_synapse: ig_subnet.protocol.ImageGenerating,\n",
    "    synapses: list[ig_subnet.protocol.ImageGenerating],\n",
    "    uids: list[int],\n",
    "    timeout: float,\n",
    ") -> list[float]:\n",
    "    valid_uids = [uid for uid, response in zip(uids, synapses) if response.is_success]\n",
    "    invalid_uids = [\n",
    "        uid for uid, synapse in zip(uids, synapses) if not synapse.is_success\n",
    "    ]\n",
    "    total_uids = valid_uids + invalid_uids\n",
    "    valid_synapses = [synapse for synapse in synapses if synapse.is_success]\n",
    "    if valid_uids:\n",
    "        data = {\n",
    "            \"miner_data\": [synapse.deserialize() for synapse in valid_synapses],\n",
    "            \"base_data\": base_synapse.deserialize_input(),\n",
    "        }\n",
    "        response = requests.post(url, json=data)\n",
    "        if response.status_code != 200:\n",
    "            raise Exception(f\"Error in get_reward: {response.json()}\")\n",
    "        valid_rewards = response.json()[\"rewards\"]\n",
    "        valid_rewards = [float(reward) for reward in valid_rewards]\n",
    "        process_times = [synapse.dendrite.process_time for synapse in valid_synapses]\n",
    "        if timeout > 12:\n",
    "            valid_rewards = add_time_penalty(valid_rewards, process_times, 0.4, 64)\n",
    "        else:\n",
    "            valid_rewards = add_time_penalty(valid_rewards, process_times, 0.4, 12)\n",
    "        valid_rewards = [round(num, 3) for num in valid_rewards]\n",
    "    else:\n",
    "        bt.logging.info(\"0 valid responses in a batch\")\n",
    "        valid_rewards = []\n",
    "\n",
    "    total_rewards = valid_rewards + [0] * len(invalid_uids)\n",
    "\n",
    "    return total_uids, total_rewards"
   ]
  }
 ],
 "metadata": {
  "kernelspec": {
   "display_name": "Python 3",
   "language": "python",
   "name": "python3"
  },
  "language_info": {
   "codemirror_mode": {
    "name": "ipython",
    "version": 3
   },
   "file_extension": ".py",
   "mimetype": "text/x-python",
   "name": "python",
   "nbconvert_exporter": "python",
   "pygments_lexer": "ipython3",
   "version": "3.10.12"
  }
 },
 "nbformat": 4,
 "nbformat_minor": 2
}
